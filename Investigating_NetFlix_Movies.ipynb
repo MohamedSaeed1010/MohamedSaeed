{
  "nbformat": 4,
  "nbformat_minor": 0,
  "metadata": {
    "colab": {
      "provenance": [],
      "authorship_tag": "ABX9TyNb+pS0CYhOgvElk4hwMyMn",
      "include_colab_link": true
    },
    "kernelspec": {
      "name": "python3",
      "display_name": "Python 3"
    },
    "language_info": {
      "name": "python"
    }
  },
  "cells": [
    {
      "cell_type": "markdown",
      "metadata": {
        "id": "view-in-github",
        "colab_type": "text"
      },
      "source": [
        "<a href=\"https://colab.research.google.com/github/MohamedSaeed1010/MohamedSaeed/blob/main/Investigating_NetFlix_Movies.ipynb\" target=\"_parent\"><img src=\"https://colab.research.google.com/assets/colab-badge.svg\" alt=\"Open In Colab\"/></a>"
      ]
    },
    {
      "cell_type": "markdown",
      "source": [
        " **Investigating NetFlix Movies**\n",
        "\n"
      ],
      "metadata": {
        "id": "cNx2daRN7W3O"
      }
    },
    {
      "cell_type": "code",
      "source": [
        " ## unarchive data\n",
        "!unzip /content/workspace.zip"
      ],
      "metadata": {
        "colab": {
          "base_uri": "https://localhost:8080/"
        },
        "id": "iWDi_MSh7vBr",
        "outputId": "bacc1baa-13d7-4c99-93dd-080a785d1f71"
      },
      "execution_count": 2,
      "outputs": [
        {
          "output_type": "stream",
          "name": "stdout",
          "text": [
            "Archive:  /content/workspace.zip\n",
            "   creating: workspace/\n",
            "  inflating: workspace/notebook.ipynb  \n",
            "  inflating: workspace/netflix_data.csv  \n",
            "  inflating: workspace/redpopcorn.jpg  \n"
          ]
        }
      ]
    },
    {
      "cell_type": "code",
      "source": [
        "# Importing pandas,matplotlib and numpy\n",
        "import pandas as pd\n",
        "import matplotlib.pyplot as plt\n",
        "import numpy as np\n",
        "# Read in the Netflix CSV as a DataFrame\n",
        "netflix_df = pd.read_csv(\"/content/workspace/netflix_data.csv\")"
      ],
      "metadata": {
        "id": "Y17rtLlU7_vI"
      },
      "execution_count": 3,
      "outputs": []
    },
    {
      "cell_type": "code",
      "source": [
        "# Subset the DataFrame to keep only movies\n",
        "movies = netflix_df[netflix_df[\"type\"] == \"Movie\"]\n",
        "\n",
        "# Filter the years to keep only those between 1990 and 1999\n",
        "movies_filtered = movies[(movies[\"release_year\"] >= 1990) & (movies[\"release_year\"] <= 1999)] # <2000\n",
        "\n",
        "# Now you can work with movies_filtered, which contains only movies released between 1990 and 1999\n",
        "print(movies_filtered)"
      ],
      "metadata": {
        "colab": {
          "base_uri": "https://localhost:8080/"
        },
        "id": "GhOmhugP8Isl",
        "outputId": "2b20be38-c0c4-459f-ec34-3e964269da7d"
      },
      "execution_count": 4,
      "outputs": [
        {
          "output_type": "stream",
          "name": "stdout",
          "text": [
            "     show_id   type                            title            director  \\\n",
            "6         s8  Movie                              187      Kevin Reynolds   \n",
            "118     s167  Movie                A Dangerous Woman  Stephen Gyllenhaal   \n",
            "145     s211  Movie           A Night at the Roxbury    John Fortenberry   \n",
            "167     s239  Movie  A Thin Line Between Love & Hate     Martin Lawrence   \n",
            "194     s274  Movie                     Aashik Awara         Umesh Mehra   \n",
            "...      ...    ...                              ...                 ...   \n",
            "4672   s7536  Movie                      West Beirut        Ziad Doueiri   \n",
            "4689   s7571  Movie      What's Eating Gilbert Grape     Lasse Hallström   \n",
            "4718   s7624  Movie                   Wild Wild West    Barry Sonnenfeld   \n",
            "4746   s7682  Movie                       Wyatt Earp     Lawrence Kasdan   \n",
            "4756   s7695  Movie                      Yaar Gaddar         Umesh Mehra   \n",
            "\n",
            "                                                   cast        country  \\\n",
            "6     Samuel L. Jackson, John Heard, Kelly Rowan, Cl...  United States   \n",
            "118   Debra Winger, Barbara Hershey, Gabriel Byrne, ...  United States   \n",
            "145   Will Ferrell, Chris Kattan, Dan Hedaya, Molly ...  United States   \n",
            "167   Martin Lawrence, Lynn Whitfield, Regina King, ...  United States   \n",
            "194   Saif Ali Khan, Mamta Kulkarni, Mohnish Bahl, S...          India   \n",
            "...                                                 ...            ...   \n",
            "4672  Rami Doueiri, Mohamad Chamas, Rola Al Amin, Ca...         France   \n",
            "4689  Johnny Depp, Leonardo DiCaprio, Juliette Lewis...  United States   \n",
            "4718  Will Smith, Kevin Kline, Kenneth Branagh, Salm...  United States   \n",
            "4746  Kevin Costner, Dennis Quaid, Gene Hackman, Dav...  United States   \n",
            "4756  Mithun Chakraborty, Saif Ali Khan, Somy Ali, P...          India   \n",
            "\n",
            "            date_added  release_year  duration  \\\n",
            "6     November 1, 2019          1997       119   \n",
            "118      April 1, 2018          1993       101   \n",
            "145   December 1, 2019          1998        82   \n",
            "167   December 1, 2020          1996       108   \n",
            "194       June 1, 2017          1993       154   \n",
            "...                ...           ...       ...   \n",
            "4672  October 19, 2020          1999       106   \n",
            "4689   January 1, 2021          1993       118   \n",
            "4718   January 1, 2020          1999       106   \n",
            "4746   January 1, 2020          1994       191   \n",
            "4756      July 1, 2017          1994       148   \n",
            "\n",
            "                                            description           genre  \n",
            "6     After one of his high school students attacks ...          Dramas  \n",
            "118   At the center of this engrossing melodrama is ...          Dramas  \n",
            "145   After a run-in with Richard Grieco, dimwits Do...        Comedies  \n",
            "167   When a philandering club promoter sets out to ...        Comedies  \n",
            "194   Raised by a kindly thief, orphaned Jimmy goes ...          Dramas  \n",
            "...                                                 ...             ...  \n",
            "4672  Three intrepid teens roam the streets of Beiru...          Dramas  \n",
            "4689  In a backwater Iowa town, young Gilbert is tor...  Classic Movies  \n",
            "4718  Armed with an ingenious arsenal, two top-notch...          Action  \n",
            "4746  Legendary lawman Wyatt Earp is continually at ...          Action  \n",
            "4756  When his brother becomes involved in a deadly ...          Dramas  \n",
            "\n",
            "[183 rows x 11 columns]\n"
          ]
        }
      ]
    },
    {
      "cell_type": "code",
      "source": [
        "# Count the number of movies in the dataframe\n",
        "num_movies = len(movies)\n",
        "# Print the result\n",
        "print(\"There are\" +\" \"+str(num_movies)+\" \"+\"movies in NetFlix\")\n",
        "# Count the number of movies_filtered in the dataframe\n",
        "num_movies_filtered = len(movies_filtered)\n",
        "# Print the result\n",
        "print(\"There are \" + str(num_movies_filtered) + \" movies released between 1990 and 1999.\")"
      ],
      "metadata": {
        "colab": {
          "base_uri": "https://localhost:8080/"
        },
        "id": "7Kfw9UNl8UM4",
        "outputId": "ea64d93c-80da-4acb-daea-711c1aa09d4d"
      },
      "execution_count": 7,
      "outputs": [
        {
          "output_type": "stream",
          "name": "stdout",
          "text": [
            "There are 4677 movies in NetFlix\n",
            "There are 183 movies released between 1990 and 1999.\n"
          ]
        }
      ]
    },
    {
      "cell_type": "code",
      "source": [
        "# Find the most frequent movie duration\n",
        "most_frequent_duration = movies_filtered['duration']\n",
        "print(\"The most frequent movie duration in the 1990s is: \"+str(most_frequent_duration))\n",
        "# Visualize the data to view the distributions of durations for movies released in the 1990s.\n",
        "plt.hist(movies_filtered['duration'], bins=10,edgecolor='black')\n",
        "plt.title('Distribution of Movie Durations in the 1990s')\n",
        "plt.xlabel('Duration (minutes)')\n",
        "plt.ylabel('Number of Movies')\n",
        "plt.show()"
      ],
      "metadata": {
        "colab": {
          "base_uri": "https://localhost:8080/",
          "height": 680
        },
        "id": "Xd7FBDDl8nd4",
        "outputId": "fa56726e-fe8d-43ea-ab5c-30359c0a19d7"
      },
      "execution_count": 12,
      "outputs": [
        {
          "output_type": "stream",
          "name": "stdout",
          "text": [
            "The most frequent movie duration in the 1990s is: 6       119\n",
            "118     101\n",
            "145      82\n",
            "167     108\n",
            "194     154\n",
            "       ... \n",
            "4672    106\n",
            "4689    118\n",
            "4718    106\n",
            "4746    191\n",
            "4756    148\n",
            "Name: duration, Length: 183, dtype: int64\n"
          ]
        },
        {
          "output_type": "display_data",
          "data": {
            "text/plain": [
              "<Figure size 640x480 with 1 Axes>"
            ],
            "image/png": "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\n"
          },
          "metadata": {}
        }
      ]
    },
    {
      "cell_type": "code",
      "source": [
        "# Count the number of short action movies from the 1990s\n",
        "short_action_movies_count = 0\n",
        "action_movies = movies_filtered[movies_filtered[\"genre\"] == \"Action\"]\n",
        "for index, row in action_movies.iterrows():\n",
        "      if row[\"duration\"] < 90 :\n",
        "        short_action_movies_count = short_action_movies_count + 1\n",
        "      else:\n",
        "        short_action_movies_count = short_action_movies_count\n",
        "\n",
        
        "# Print the result\n",
        "print(f\"There are \"+\" \"+str(short_action_movies_count)+\" \"+\"short action movies from the 1990s.\")"
      ],
      "metadata": {
        "colab": {
          "base_uri": "https://localhost:8080/"
        },
        "id": "mA-Q83aQ9ig4",
        "outputId": "85ec8083-796c-46e5-f0c4-f4e2378bd782"
      },
      "execution_count": 13,
      "outputs": [
        {
          "output_type": "stream",
          "name": "stdout",
          "text": [
            ,
            "There are  7 short action movies from the 1990s.\n"
          ]
        }
      ]
    }
  ]
}
